{
 "cells": [
  {
   "cell_type": "markdown",
   "id": "1e2823cf",
   "metadata": {},
   "source": [
    "# Examen B Módulo 1 - Optimización.\n",
    "\n",
    "**Lea cuidadosamente las siguientes indicaciones antes de comenzar el examen:**\n",
    "- Para resolver el examen edite este mismo archivo y renómbrelo de la siguiente manera: *Examen1_ApellidoNombre*, donde *ApellidoNombre* corresponde a su apellido paterno con la inicial en mayúscula, seguido de su primer nombre con la inicial en mayúscula **sin acentos**. Por ejemplo, en mi caso el nombre del archivo sería *Examen1_MoralesGabriel*.\n",
    "- Resuelva los puntos en el espacio provisto. Si requiere agregar más celdas para código o escritura, hágalo (`Esc`,`B`) o (`Esc`,`A`).\n",
    "- Recuerde que también se está evaluando su capacidad de interpretar los resultados. Escriba sus interpretaciones/conclusiones en celdas utilizando *Markdown*.\n",
    "- El formato de presentación de todo el examen en general debe ser adecuado. Use tamaños de letra, colores, etiquetas, etcétera.\n",
    "- No se resuelven dudas de ningún tipo por los profesores de la asignatura. Por favor, absténgase de preguntar.\n",
    "- Revise bien el tipo de examen. Sólo se le calificará si realiza el tipo de examen asignado."
   ]
  },
  {
   "cell_type": "markdown",
   "id": "53712a36",
   "metadata": {},
   "source": [
    "---\n",
    "# Primer punto. Optimización de funciones con `SymPy` (34 puntos)\n",
    "\n",
    "**Costo mínimo**. Imagine un contenedor rectangular sin tapa que debe satisfacer las siguientes condiciones:\n",
    "\n",
    "- Este contenedor debe tener un volumen **V**.\n",
    "- La longitud de su base es el doble que el de su ancho.\n",
    "- El material para la base cuesta 12.00 MXN por cada $m^2$.\n",
    "- El material para los lados cuesta 6.00 MXN por cada $m^2$.\n",
    "\n",
    "¿Cuál es el costo del contenedor más barato?\n"
   ]
  },
  {
   "cell_type": "markdown",
   "id": "2a2195af",
   "metadata": {},
   "source": [
    "## - CORRECCIÓN -\n",
    "No supe plantear el problema así que me lo brinque y no supe organizar mi tiempo, cuando regresé al problema ya era demasiado tarde que no lo pude hacer. Al querer plantear la función me revolví mucho.\n",
    "\n",
    "Al corregirlo me tomé mi tiempo y corregí el planteamiento de mi función de costo, para despúes seguir con el procedimiento del problema.\n",
    "\n",
    "Puede haber manejado mejor mi tiempo, y pensar antes de estresarme. Confiar en lo que se y que lo puedo hacer."
   ]
  },
  {
   "cell_type": "markdown",
   "id": "37d8c9be",
   "metadata": {},
   "source": [
    "1. Definir criterio de optimización\n",
    "   - Minimizar\n",
    "2. Variables que afectan la función de costo\n",
    "   - $b = 2x^2$, \n",
    "   - $l = 4xh + 2xh = 6xh $\n",
    "3. Función de costo\n",
    "   - $C(x, h) = 24x^2 + 36xh$\n",
    "4. Información adicional\n",
    "\n",
    "    base = $12 cada $m^2$$\n",
    "    lados = $6 cada $m^2$$\n"
   ]
  },
  {
   "cell_type": "markdown",
   "id": "9913d3d8",
   "metadata": {},
   "source": [
    "1. Escriba el costo **C** del contenedor como una función del ancho de la base $x$ y de su altura $h$. Realice este punto usando $\\LaTeX$ y celdas *Markdown*."
   ]
  },
  {
   "cell_type": "markdown",
   "id": "d04a104b",
   "metadata": {},
   "source": []
  },
  {
   "cell_type": "markdown",
   "id": "bac0eb00",
   "metadata": {},
   "source": []
  },
  {
   "cell_type": "markdown",
   "id": "ee04a16b",
   "metadata": {},
   "source": []
  },
  {
   "cell_type": "markdown",
   "id": "a1e58696",
   "metadata": {},
   "source": [
    "2. Determina las dimensiones del contenedor si el volumen debe ser de $12m^3$."
   ]
  },
  {
   "cell_type": "code",
   "execution_count": 37,
   "id": "82e30525",
   "metadata": {},
   "outputs": [
    {
     "data": {
      "text/latex": [
       "$\\displaystyle h$"
      ],
      "text/plain": [
       "h"
      ]
     },
     "execution_count": 37,
     "metadata": {},
     "output_type": "execute_result"
    }
   ],
   "source": [
    "import numpy as np\n",
    "import sympy as sp \n",
    "\n",
    "sp.var(\"x\")\n",
    "sp.var(\"h\")\n"
   ]
  },
  {
   "cell_type": "code",
   "execution_count": 38,
   "id": "8b1217dd",
   "metadata": {},
   "outputs": [
    {
     "data": {
      "text/latex": [
       "$\\displaystyle 2 h x^{2} - 12$"
      ],
      "text/plain": [
       "2*h*x**2 - 12"
      ]
     },
     "execution_count": 38,
     "metadata": {},
     "output_type": "execute_result"
    }
   ],
   "source": [
    "volumen = 2*x**2*h-12\n",
    "volumen"
   ]
  },
  {
   "cell_type": "code",
   "execution_count": 52,
   "id": "7990dbe3",
   "metadata": {},
   "outputs": [
    {
     "data": {
      "text/latex": [
       "$\\displaystyle 36 h x + 24 x^{2}$"
      ],
      "text/plain": [
       "36*h*x + 24*x**2"
      ]
     },
     "execution_count": 52,
     "metadata": {},
     "output_type": "execute_result"
    }
   ],
   "source": [
    "costo = 24*x**2 + 36*x*h\n",
    "costo"
   ]
  },
  {
   "cell_type": "code",
   "execution_count": 53,
   "id": "11e4754c",
   "metadata": {},
   "outputs": [
    {
     "data": {
      "text/plain": [
       "[-sqrt(6)*sqrt(1/h), sqrt(6)*sqrt(1/h)]"
      ]
     },
     "execution_count": 53,
     "metadata": {},
     "output_type": "execute_result"
    }
   ],
   "source": [
    "# Despeje de una variable\n",
    "d_x = sp.solve(volumen, x)\n",
    "d_x"
   ]
  },
  {
   "cell_type": "code",
   "execution_count": 54,
   "id": "658b9845",
   "metadata": {},
   "outputs": [
    {
     "data": {
      "text/latex": [
       "$\\displaystyle \\sqrt{6} \\sqrt{\\frac{1}{h}}$"
      ],
      "text/plain": [
       "sqrt(6)*sqrt(1/h)"
      ]
     },
     "execution_count": 54,
     "metadata": {},
     "output_type": "execute_result"
    }
   ],
   "source": [
    "# Separamos el valor positivo\n",
    "val_x = d_x[1]\n",
    "val_x"
   ]
  },
  {
   "cell_type": "code",
   "execution_count": 55,
   "id": "2827eda0",
   "metadata": {
    "scrolled": true
   },
   "outputs": [
    {
     "data": {
      "text/latex": [
       "$\\displaystyle 36 \\sqrt{6} h \\sqrt{\\frac{1}{h}} + \\frac{144}{h}$"
      ],
      "text/plain": [
       "36*sqrt(6)*h*sqrt(1/h) + 144/h"
      ]
     },
     "execution_count": 55,
     "metadata": {},
     "output_type": "execute_result"
    }
   ],
   "source": [
    "# Substituir en la función de costo\n",
    "subs = costo.subs(x, val_x)\n",
    "subs"
   ]
  },
  {
   "cell_type": "code",
   "execution_count": 56,
   "id": "e72ac6e4",
   "metadata": {},
   "outputs": [
    {
     "data": {
      "text/latex": [
       "$\\displaystyle 18 \\sqrt{6} \\sqrt{\\frac{1}{h}} - \\frac{144}{h^{2}}$"
      ],
      "text/plain": [
       "18*sqrt(6)*sqrt(1/h) - 144/h**2"
      ]
     },
     "execution_count": 56,
     "metadata": {},
     "output_type": "execute_result"
    }
   ],
   "source": [
    "# Derivar\n",
    "df = sp.diff(subs, h)\n",
    "df"
   ]
  },
  {
   "cell_type": "code",
   "execution_count": 57,
   "id": "7045a50e",
   "metadata": {},
   "outputs": [
    {
     "data": {
      "text/plain": [
       "[2*6**(2/3)/3]"
      ]
     },
     "execution_count": 57,
     "metadata": {},
     "output_type": "execute_result"
    }
   ],
   "source": [
    "# resolver para valor de h\n",
    "pc = sp.solve(df, h)\n",
    "pc"
   ]
  },
  {
   "cell_type": "code",
   "execution_count": 58,
   "id": "5d12f84f",
   "metadata": {},
   "outputs": [
    {
     "data": {
      "text/plain": [
       "2.201284832596418"
      ]
     },
     "execution_count": 58,
     "metadata": {},
     "output_type": "execute_result"
    }
   ],
   "source": [
    "# Valor de h\n",
    "float(pc[0])"
   ]
  },
  {
   "cell_type": "code",
   "execution_count": 59,
   "id": "5908a74e",
   "metadata": {},
   "outputs": [
    {
     "data": {
      "text/plain": [
       "1.6509636244473134"
      ]
     },
     "execution_count": 59,
     "metadata": {},
     "output_type": "execute_result"
    }
   ],
   "source": [
    "# Valor de x\n",
    "xnum = float(val_x.subs(h, pc[0]))\n",
    "xnum"
   ]
  },
  {
   "cell_type": "markdown",
   "id": "9109fdc5",
   "metadata": {},
   "source": [
    "### RESPUESTA \n",
    "Los valores que satisfacen las dimesiones del volumen de la caja son de:\n",
    "\n",
    "x = 1.65 m\n",
    "\n",
    "h = 2.20 m\n",
    "\n",
    "#### Siendo el volumen de la caja..\n",
    "\n",
    "alto = 2.20m -> h\n",
    "\n",
    "ancho = 1.65m -> x\n",
    "\n",
    "largo = 4.4m -> h*2"
   ]
  },
  {
   "cell_type": "code",
   "execution_count": null,
   "id": "378c347b",
   "metadata": {},
   "outputs": [],
   "source": []
  },
  {
   "cell_type": "markdown",
   "id": "fec1be1e",
   "metadata": {},
   "source": [
    "3. ¿Cuál fue el costo de fabricar este contenedor?"
   ]
  },
  {
   "cell_type": "code",
   "execution_count": 60,
   "id": "0c638fe3",
   "metadata": {},
   "outputs": [
    {
     "data": {
      "text/plain": [
       "196.24902402587108"
      ]
     },
     "execution_count": 60,
     "metadata": {},
     "output_type": "execute_result"
    }
   ],
   "source": [
    "# Sustituir los valores de x y h en fun COSTO\n",
    "costo_fin = float(costo.subs(x, xnum).subs(h, pc[0]))\n",
    "costo_fin"
   ]
  },
  {
   "cell_type": "markdown",
   "id": "2fda6173",
   "metadata": {},
   "source": [
    "### RESPUESTA\n",
    "El costo mínimo de fabricación del contenedor es de $196.25"
   ]
  },
  {
   "cell_type": "code",
   "execution_count": null,
   "id": "06662bea",
   "metadata": {},
   "outputs": [],
   "source": []
  },
  {
   "cell_type": "markdown",
   "id": "4eeff9c8",
   "metadata": {},
   "source": [
    "---\n",
    "# Segundo punto. Programación lineal (33 puntos)"
   ]
  },
  {
   "cell_type": "markdown",
   "id": "b06ab826",
   "metadata": {},
   "source": [
    "## - CORRECCIÓN -\n",
    "No supe plantear las variables y las iguale, cuando así no era. Tambien se me olvidó cambiar los signos al ser nuestro criterio de optimización MINIMIZAR. \n",
    "\n",
    "Corregí los signos y mis matrices, para que cumplieran con las reestricciones del problema. Agregar la celda de Markdown para explicar la respuesta.\n",
    "\n",
    "Puedo evitar est error prestando más atención a lo que me dice el problema, sin antes adelantarme a hacerlo como por \"receta\" igual otros anteriores. Cada problema es diferente por lo mismo se soluciona de diferente manera."
   ]
  },
  {
   "cell_type": "markdown",
   "id": "8013ca31",
   "metadata": {},
   "source": [
    "Una empresa se dedica a fabricar tarjetas de control para automóviles, y están en su momento de planeación de compras anuales. Hay 5 proveedores que pueden proveer los componentes, cada uno a su propio precio."
   ]
  },
  {
   "cell_type": "markdown",
   "id": "f41253d2",
   "metadata": {},
   "source": [
    "<table>\n",
    "  <tr>\n",
    "      <th>  </th>\n",
    "      <th>Proveedor 1</th>\n",
    "      <th>Proveedor 2</th>\n",
    "      <th>Proveedor 3</th>\n",
    "      <th>Demanda</th>\n",
    "  </tr>\n",
    "  <tr>\n",
    "      <th>Componente 1</th>\n",
    "      <td>0.5</td>\n",
    "      <td>0.6</td>\n",
    "      <td>0.7</td>\n",
    "      <td>15000</td>\n",
    "  </tr>\n",
    "  <tr style=\"border-bottom: 1px solid #000;\">\n",
    "      <th>Componente 2</th>\n",
    "      <td>0.7</td>\n",
    "      <td>0.5</td>\n",
    "      <td>0.6</td>\n",
    "      <td>20000</td>\n",
    "  </tr>\n",
    "  <tr style=\"border-bottom: 1px solid #000;\">\n",
    "      <th>Componente 3</th>\n",
    "      <td>0.32</td>\n",
    "      <td>0.54</td>\n",
    "      <td>0.8</td>\n",
    "      <td>12000</td>\n",
    "  </tr>\n",
    "\n",
    "  <tr style=\"border-bottom: 1px solid #000;\">\n",
    "      <th>Capacidad</th>\n",
    "      <td> 21000 </td>\n",
    "      <td> 16000 </td>\n",
    "      <td> 16000 </td>\n",
    "      <td>  </td>\n",
    "  </tr>\n",
    "</table>"
   ]
  },
  {
   "cell_type": "markdown",
   "id": "48d6c967",
   "metadata": {},
   "source": [
    "El proveedor tiene restricciones de capacidad de fabricación del tipo de componentes, por lo que un proveedor no puede satisfacer nuestra demanda completa para cada componente."
   ]
  },
  {
   "cell_type": "markdown",
   "id": "85e307ae",
   "metadata": {},
   "source": [
    "Se desea conocer la cantidad que se debe comprar de cada componente a cada proveedor para gastar la menor cantidad de dinero posible, pero al mismo tiempo lograr satisfacer la demanda para poder continuar con la manufactura del producto."
   ]
  },
  {
   "cell_type": "markdown",
   "id": "df55a736",
   "metadata": {},
   "source": [
    "1. Escriba la función a **minimizar** junto con las restricciones, explicando detalladamente cada paso (usando fórmulas en $\\LaTeX$, en celdas Markdown). Además escriba el problema en la forma \\begin{equation}\n",
    "\\begin{array}{ll}\n",
    "\\min_{\\boldsymbol{x}} & \\boldsymbol{c}^T\\boldsymbol{x} \\\\\n",
    "\\text{s. a. }        & \\boldsymbol{A}_{eq}\\boldsymbol{x}=\\boldsymbol{b}_{eq} \\\\\n",
    "                     & \\boldsymbol{A}\\boldsymbol{x}\\leq\\boldsymbol{b},\n",
    "\\end{array}\\qquad\\text{(23 puntos)}\n",
    "\\end{equation}"
   ]
  },
  {
   "cell_type": "markdown",
   "id": "04ce36d6",
   "metadata": {},
   "source": [
    "1. Definir criterio de optimización\n",
    "   - Minimizar\n",
    "2. Variables que afectan la función de costo\n",
    "   - $c1p1$, $c1p2$, $c1p3$, $c2p1$, $c2p2$, $c2p3$, $c3p1$, $c3p2$, $c3p3$, \n",
    "3. Función de costo\n",
    "   - $$\\min_{x_1,\\dots,x_9}0.5x_{c1p1} + 0.6x_{c1p2} + 0.7x_{c1p3} + 0.7x_{c2p1} + 0.5x_{c2p2} + 0.6x_{c2p3} + 0.32x_{c3p1} + 0.54x_{c3p2} + 0.8x_{c3p3}$$\n",
    "4. Información adicional\n",
    "   - 0.5 c1p1 + 0.7 c2p1 + 0.32 c3p1 ≤ 21000\n",
    "   - 0.6 c1p2 + 0.5 c2p2 + 0.54 c3p2 ≤ 16000\n",
    "   - 0.7 c1p3 + 0.6 c2p3 + 0.8  c3p3 ≤ 16000\n",
    "   - c1p1 + c1p2 + c1p3  ≥  15000\n",
    "   - c2p1 + c2p2 + c2p3  ≥  20000\n",
    "   - c3p1 + c3p2 + c3p3  ≥  12000"
   ]
  },
  {
   "cell_type": "markdown",
   "id": "d4c96539",
   "metadata": {},
   "source": [
    " "
   ]
  },
  {
   "cell_type": "markdown",
   "id": "4f8863ce",
   "metadata": {},
   "source": []
  },
  {
   "cell_type": "markdown",
   "id": "6c1e3c9a",
   "metadata": {},
   "source": [
    "2. Resuelva el problema utilizando la función `linprog`. ¿Cómo debe ser la distribución de compras? ¿Cuánto dinero se necesita para satisfacer la demanda? (10 puntos)"
   ]
  },
  {
   "cell_type": "code",
   "execution_count": 29,
   "id": "d321188e",
   "metadata": {},
   "outputs": [],
   "source": [
    "import scipy.optimize as opt\n",
    "import numpy as np\n",
    "\n",
    "c = np.array([0.5,\n",
    "              0.7,\n",
    "              0.32,\n",
    "              0.6,\n",
    "              0.5,\n",
    "              0.54,\n",
    "              0.7,\n",
    "              0.6,\n",
    "              0.8\n",
    "             ])\n",
    "\n",
    "Aub = np.array([\n",
    "    [-1, 0, 0, -1, 0, 0, -1, 0, 0],\n",
    "    [0, -1, 0, 0, -1, 0, 0, -1, 0],\n",
    "    [0, 0, -1, 0, 0, -1, 0, 0, -1],\n",
    "    [1, 1, 1, 0, 0, 0, 0, 0, 0],\n",
    "    [0, 0, 0, 1, 1, 1, 0, 0, 0],\n",
    "    [0, 0, 0, 0, 0, 0, 1, 1, 1]\n",
    "])\n",
    "\n",
    "bub = np.array([-15000,\n",
    "                -20000,\n",
    "                -12000,\n",
    "                 21000,\n",
    "                 16000,\n",
    "                 16000\n",
    "               ])\n",
    "\n"
   ]
  },
  {
   "cell_type": "code",
   "execution_count": 31,
   "id": "5fbc9ece",
   "metadata": {
    "scrolled": true
   },
   "outputs": [
    {
     "data": {
      "text/plain": [
       "           con: array([], dtype=float64)\n",
       " crossover_nit: 0\n",
       "         eqlin:  marginals: array([], dtype=float64)\n",
       "  residual: array([], dtype=float64)\n",
       "           fun: 22940.0\n",
       "       ineqlin:  marginals: array([-0.7 , -0.6 , -0.52, -0.2 , -0.1 , -0.  ])\n",
       "  residual: array([   0.,    0.,    0.,    0.,    0., 6000.])\n",
       "         lower:  marginals: array([0.  , 0.3 , 0.  , 0.  , 0.  , 0.12, 0.  , 0.  , 0.28])\n",
       "  residual: array([ 9000.,     0., 12000.,     0., 16000.,     0.,  6000.,  4000.,\n",
       "           0.])\n",
       "       message: 'Optimization terminated successfully. (HiGHS Status 7: Optimal)'\n",
       "           nit: 6\n",
       "         slack: array([   0.,    0.,    0.,    0.,    0., 6000.])\n",
       "        status: 0\n",
       "       success: True\n",
       "         upper:  marginals: array([0., 0., 0., 0., 0., 0., 0., 0., 0.])\n",
       "  residual: array([inf, inf, inf, inf, inf, inf, inf, inf, inf])\n",
       "             x: array([ 9000.,     0., 12000.,     0., 16000.,     0.,  6000.,  4000.,\n",
       "           0.])"
      ]
     },
     "execution_count": 31,
     "metadata": {},
     "output_type": "execute_result"
    }
   ],
   "source": [
    "opt.linprog(c, Aub, bub)"
   ]
  },
  {
   "cell_type": "markdown",
   "id": "704b1886",
   "metadata": {},
   "source": [
    "### RESPUESTA\n",
    "\n",
    "Los componentes se deberián de repartir de la sig. manera:\n",
    "\n",
    "9,000 COMP 1 al PROVEEDOR 1\n",
    "\n",
    "12,000 COMP 3 al PROVEEDOR 1\n",
    "\n",
    "16,000 COMP 2 al PROVEEDOR 2\n",
    "\n",
    "6,000 COMP 1 al PROVEEDOR 3\n",
    "\n",
    "4,000 COMP 2 al PROVEEDOR 3\n"
   ]
  },
  {
   "cell_type": "markdown",
   "id": "59c14a52",
   "metadata": {},
   "source": [
    "### Para satisfacer la demanda se necesitan $22,940"
   ]
  },
  {
   "cell_type": "markdown",
   "id": "666dccc9",
   "metadata": {},
   "source": [
    "- 9,000x1 + 12,000x3 +16,000x5 +6,000x7+ 4,000x8"
   ]
  },
  {
   "cell_type": "code",
   "execution_count": 32,
   "id": "b13a2650",
   "metadata": {},
   "outputs": [
    {
     "data": {
      "text/plain": [
       "22940.0"
      ]
     },
     "execution_count": 32,
     "metadata": {},
     "output_type": "execute_result"
    }
   ],
   "source": [
    "demanda = (9000*0.5)+ (12000*0.32)+ (16000*0.5) + (6000*0.7) + (4000*0.6)\n",
    "demanda"
   ]
  },
  {
   "cell_type": "code",
   "execution_count": null,
   "id": "e457259e",
   "metadata": {},
   "outputs": [],
   "source": []
  },
  {
   "cell_type": "markdown",
   "id": "5663a48b",
   "metadata": {},
   "source": [
    "# Tercer punto. Ajuste de curvas (33 puntos)\n",
    "\n",
    "Utiliza el archivo adjunto en Canvas en el apartado que corresponde al examen."
   ]
  },
  {
   "cell_type": "markdown",
   "id": "e8255540",
   "metadata": {},
   "source": [
    "## - Corrección -\n",
    "Me falto tiempo y no sabía como sustituir el valor de x para sacar el valor de y.\n",
    "\n",
    "Termine el ejercicio y agregue la celda de Markdown con  el resultado.\n",
    "\n",
    "Administrar mejor mi tiempo para poder terminar los ejercicios y no olvidar agregar la celda de Markdown para la próxima vez."
   ]
  },
  {
   "cell_type": "markdown",
   "id": "c673e9e6",
   "metadata": {},
   "source": [
    "Escribe tu número de expediente:  **741902**"
   ]
  },
  {
   "cell_type": "markdown",
   "id": "da3c6c2e",
   "metadata": {},
   "source": [
    "Lee el archivo y extrae la siguiente información:\n",
    "- $x$ es la primer columna del archivo\n",
    "- $y$ es la columna correspondiente a los últimos dos dígitos de tu número de expediente + 1. E.g. mi expediente es $693871$; por lo tanto, debo usar la columna $72$."
   ]
  },
  {
   "cell_type": "code",
   "execution_count": 2,
   "id": "a9122d69",
   "metadata": {
    "scrolled": false
   },
   "outputs": [
    {
     "data": {
      "text/html": [
       "<div>\n",
       "<style scoped>\n",
       "    .dataframe tbody tr th:only-of-type {\n",
       "        vertical-align: middle;\n",
       "    }\n",
       "\n",
       "    .dataframe tbody tr th {\n",
       "        vertical-align: top;\n",
       "    }\n",
       "\n",
       "    .dataframe thead th {\n",
       "        text-align: right;\n",
       "    }\n",
       "</style>\n",
       "<table border=\"1\" class=\"dataframe\">\n",
       "  <thead>\n",
       "    <tr style=\"text-align: right;\">\n",
       "      <th></th>\n",
       "      <th>0</th>\n",
       "      <th>1</th>\n",
       "      <th>2</th>\n",
       "      <th>3</th>\n",
       "      <th>4</th>\n",
       "      <th>5</th>\n",
       "      <th>6</th>\n",
       "      <th>7</th>\n",
       "      <th>8</th>\n",
       "      <th>9</th>\n",
       "      <th>...</th>\n",
       "      <th>91</th>\n",
       "      <th>92</th>\n",
       "      <th>93</th>\n",
       "      <th>94</th>\n",
       "      <th>95</th>\n",
       "      <th>96</th>\n",
       "      <th>97</th>\n",
       "      <th>98</th>\n",
       "      <th>99</th>\n",
       "      <th>100</th>\n",
       "    </tr>\n",
       "  </thead>\n",
       "  <tbody>\n",
       "    <tr>\n",
       "      <th>0</th>\n",
       "      <td>0.000000</td>\n",
       "      <td>4.983091</td>\n",
       "      <td>3.769339</td>\n",
       "      <td>5.594828</td>\n",
       "      <td>6.429803</td>\n",
       "      <td>4.511528</td>\n",
       "      <td>6.706383</td>\n",
       "      <td>2.911751</td>\n",
       "      <td>-2.864652</td>\n",
       "      <td>-3.093433</td>\n",
       "      <td>...</td>\n",
       "      <td>6.667738</td>\n",
       "      <td>5.885562</td>\n",
       "      <td>-2.052453</td>\n",
       "      <td>-2.984045</td>\n",
       "      <td>5.750429</td>\n",
       "      <td>2.135754</td>\n",
       "      <td>-1.234049</td>\n",
       "      <td>3.500585</td>\n",
       "      <td>3.206284</td>\n",
       "      <td>-2.015092</td>\n",
       "    </tr>\n",
       "    <tr>\n",
       "      <th>1</th>\n",
       "      <td>0.002002</td>\n",
       "      <td>3.614394</td>\n",
       "      <td>2.396633</td>\n",
       "      <td>4.225133</td>\n",
       "      <td>5.058559</td>\n",
       "      <td>3.141485</td>\n",
       "      <td>5.346220</td>\n",
       "      <td>1.538843</td>\n",
       "      <td>-4.236502</td>\n",
       "      <td>-4.464649</td>\n",
       "      <td>...</td>\n",
       "      <td>5.312463</td>\n",
       "      <td>4.525002</td>\n",
       "      <td>-3.410375</td>\n",
       "      <td>-4.346935</td>\n",
       "      <td>4.396159</td>\n",
       "      <td>0.773647</td>\n",
       "      <td>-2.607035</td>\n",
       "      <td>2.130640</td>\n",
       "      <td>1.840478</td>\n",
       "      <td>-3.376963</td>\n",
       "    </tr>\n",
       "    <tr>\n",
       "      <th>2</th>\n",
       "      <td>0.004004</td>\n",
       "      <td>4.188195</td>\n",
       "      <td>2.966396</td>\n",
       "      <td>4.797931</td>\n",
       "      <td>5.629813</td>\n",
       "      <td>3.713902</td>\n",
       "      <td>5.928572</td>\n",
       "      <td>2.108423</td>\n",
       "      <td>-3.665847</td>\n",
       "      <td>-3.893386</td>\n",
       "      <td>...</td>\n",
       "      <td>5.899704</td>\n",
       "      <td>5.106895</td>\n",
       "      <td>-2.825807</td>\n",
       "      <td>-3.767381</td>\n",
       "      <td>4.984377</td>\n",
       "      <td>1.354042</td>\n",
       "      <td>-2.037531</td>\n",
       "      <td>2.703165</td>\n",
       "      <td>2.417138</td>\n",
       "      <td>-2.796368</td>\n",
       "    </tr>\n",
       "    <tr>\n",
       "      <th>3</th>\n",
       "      <td>0.006006</td>\n",
       "      <td>5.445592</td>\n",
       "      <td>4.219727</td>\n",
       "      <td>6.054320</td>\n",
       "      <td>6.884664</td>\n",
       "      <td>4.969878</td>\n",
       "      <td>7.194535</td>\n",
       "      <td>3.361588</td>\n",
       "      <td>-2.411586</td>\n",
       "      <td>-2.638543</td>\n",
       "      <td>...</td>\n",
       "      <td>7.170558</td>\n",
       "      <td>6.372337</td>\n",
       "      <td>-1.557653</td>\n",
       "      <td>-2.504284</td>\n",
       "      <td>6.256181</td>\n",
       "      <td>2.618039</td>\n",
       "      <td>-0.784438</td>\n",
       "      <td>3.959257</td>\n",
       "      <td>3.677362</td>\n",
       "      <td>-1.532206</td>\n",
       "    </tr>\n",
       "    <tr>\n",
       "      <th>4</th>\n",
       "      <td>0.008008</td>\n",
       "      <td>5.067521</td>\n",
       "      <td>3.837561</td>\n",
       "      <td>5.675236</td>\n",
       "      <td>6.504048</td>\n",
       "      <td>4.590350</td>\n",
       "      <td>6.825046</td>\n",
       "      <td>2.979275</td>\n",
       "      <td>-2.792786</td>\n",
       "      <td>-3.019186</td>\n",
       "      <td>...</td>\n",
       "      <td>6.805961</td>\n",
       "      <td>6.002265</td>\n",
       "      <td>-1.924977</td>\n",
       "      <td>-2.876709</td>\n",
       "      <td>5.892506</td>\n",
       "      <td>2.246572</td>\n",
       "      <td>-1.166821</td>\n",
       "      <td>3.579851</td>\n",
       "      <td>3.302087</td>\n",
       "      <td>-1.903542</td>\n",
       "    </tr>\n",
       "    <tr>\n",
       "      <th>...</th>\n",
       "      <td>...</td>\n",
       "      <td>...</td>\n",
       "      <td>...</td>\n",
       "      <td>...</td>\n",
       "      <td>...</td>\n",
       "      <td>...</td>\n",
       "      <td>...</td>\n",
       "      <td>...</td>\n",
       "      <td>...</td>\n",
       "      <td>...</td>\n",
       "      <td>...</td>\n",
       "      <td>...</td>\n",
       "      <td>...</td>\n",
       "      <td>...</td>\n",
       "      <td>...</td>\n",
       "      <td>...</td>\n",
       "      <td>...</td>\n",
       "      <td>...</td>\n",
       "      <td>...</td>\n",
       "      <td>...</td>\n",
       "      <td>...</td>\n",
       "    </tr>\n",
       "    <tr>\n",
       "      <th>995</th>\n",
       "      <td>1.991992</td>\n",
       "      <td>-37.621743</td>\n",
       "      <td>-26.216957</td>\n",
       "      <td>2.179613</td>\n",
       "      <td>34.525805</td>\n",
       "      <td>-81.587062</td>\n",
       "      <td>44.262737</td>\n",
       "      <td>22.788572</td>\n",
       "      <td>58.082286</td>\n",
       "      <td>-69.526880</td>\n",
       "      <td>...</td>\n",
       "      <td>-57.907315</td>\n",
       "      <td>-30.282534</td>\n",
       "      <td>2.509291</td>\n",
       "      <td>-114.436776</td>\n",
       "      <td>14.101042</td>\n",
       "      <td>109.678623</td>\n",
       "      <td>11.649459</td>\n",
       "      <td>0.666863</td>\n",
       "      <td>27.882475</td>\n",
       "      <td>93.843512</td>\n",
       "    </tr>\n",
       "    <tr>\n",
       "      <th>996</th>\n",
       "      <td>1.993994</td>\n",
       "      <td>-38.413531</td>\n",
       "      <td>-26.940495</td>\n",
       "      <td>1.526510</td>\n",
       "      <td>34.067619</td>\n",
       "      <td>-82.481098</td>\n",
       "      <td>43.789529</td>\n",
       "      <td>22.302350</td>\n",
       "      <td>57.727557</td>\n",
       "      <td>-70.383159</td>\n",
       "      <td>...</td>\n",
       "      <td>-58.823098</td>\n",
       "      <td>-31.021199</td>\n",
       "      <td>1.898045</td>\n",
       "      <td>-115.441524</td>\n",
       "      <td>13.503160</td>\n",
       "      <td>109.438779</td>\n",
       "      <td>11.124500</td>\n",
       "      <td>0.086051</td>\n",
       "      <td>27.430621</td>\n",
       "      <td>93.598580</td>\n",
       "    </tr>\n",
       "    <tr>\n",
       "      <th>997</th>\n",
       "      <td>1.995996</td>\n",
       "      <td>-38.302053</td>\n",
       "      <td>-26.760562</td>\n",
       "      <td>1.777022</td>\n",
       "      <td>34.513839</td>\n",
       "      <td>-82.472001</td>\n",
       "      <td>44.220604</td>\n",
       "      <td>22.720442</td>\n",
       "      <td>58.277463</td>\n",
       "      <td>-70.336305</td>\n",
       "      <td>...</td>\n",
       "      <td>-58.835998</td>\n",
       "      <td>-30.856352</td>\n",
       "      <td>2.190637</td>\n",
       "      <td>-115.543472</td>\n",
       "      <td>13.809172</td>\n",
       "      <td>110.103751</td>\n",
       "      <td>11.503708</td>\n",
       "      <td>0.409258</td>\n",
       "      <td>27.883253</td>\n",
       "      <td>94.258542</td>\n",
       "    </tr>\n",
       "    <tr>\n",
       "      <th>998</th>\n",
       "      <td>1.997998</td>\n",
       "      <td>-39.725567</td>\n",
       "      <td>-28.115414</td>\n",
       "      <td>0.492894</td>\n",
       "      <td>33.426211</td>\n",
       "      <td>-83.998028</td>\n",
       "      <td>43.117706</td>\n",
       "      <td>21.604596</td>\n",
       "      <td>57.293749</td>\n",
       "      <td>-71.824574</td>\n",
       "      <td>...</td>\n",
       "      <td>-60.384272</td>\n",
       "      <td>-32.226251</td>\n",
       "      <td>0.948811</td>\n",
       "      <td>-117.180880</td>\n",
       "      <td>12.580823</td>\n",
       "      <td>109.235287</td>\n",
       "      <td>10.348831</td>\n",
       "      <td>-0.801770</td>\n",
       "      <td>26.802116</td>\n",
       "      <td>93.385145</td>\n",
       "    </tr>\n",
       "    <tr>\n",
       "      <th>999</th>\n",
       "      <td>2.000000</td>\n",
       "      <td>-39.118378</td>\n",
       "      <td>-27.439358</td>\n",
       "      <td>1.239819</td>\n",
       "      <td>34.370429</td>\n",
       "      <td>-83.493487</td>\n",
       "      <td>44.046532</td>\n",
       "      <td>22.520505</td>\n",
       "      <td>58.342113</td>\n",
       "      <td>-71.282274</td>\n",
       "      <td>...</td>\n",
       "      <td>-59.902228</td>\n",
       "      <td>-31.565200</td>\n",
       "      <td>1.738263</td>\n",
       "      <td>-116.788054</td>\n",
       "      <td>13.383808</td>\n",
       "      <td>110.399081</td>\n",
       "      <td>11.225562</td>\n",
       "      <td>0.018661</td>\n",
       "      <td>27.752907</td>\n",
       "      <td>94.544086</td>\n",
       "    </tr>\n",
       "  </tbody>\n",
       "</table>\n",
       "<p>1000 rows × 101 columns</p>\n",
       "</div>"
      ],
      "text/plain": [
       "          0          1          2         3          4          5    \\\n",
       "0    0.000000   4.983091   3.769339  5.594828   6.429803   4.511528   \n",
       "1    0.002002   3.614394   2.396633  4.225133   5.058559   3.141485   \n",
       "2    0.004004   4.188195   2.966396  4.797931   5.629813   3.713902   \n",
       "3    0.006006   5.445592   4.219727  6.054320   6.884664   4.969878   \n",
       "4    0.008008   5.067521   3.837561  5.675236   6.504048   4.590350   \n",
       "..        ...        ...        ...       ...        ...        ...   \n",
       "995  1.991992 -37.621743 -26.216957  2.179613  34.525805 -81.587062   \n",
       "996  1.993994 -38.413531 -26.940495  1.526510  34.067619 -82.481098   \n",
       "997  1.995996 -38.302053 -26.760562  1.777022  34.513839 -82.472001   \n",
       "998  1.997998 -39.725567 -28.115414  0.492894  33.426211 -83.998028   \n",
       "999  2.000000 -39.118378 -27.439358  1.239819  34.370429 -83.493487   \n",
       "\n",
       "           6          7          8          9    ...        91         92   \\\n",
       "0     6.706383   2.911751  -2.864652  -3.093433  ...   6.667738   5.885562   \n",
       "1     5.346220   1.538843  -4.236502  -4.464649  ...   5.312463   4.525002   \n",
       "2     5.928572   2.108423  -3.665847  -3.893386  ...   5.899704   5.106895   \n",
       "3     7.194535   3.361588  -2.411586  -2.638543  ...   7.170558   6.372337   \n",
       "4     6.825046   2.979275  -2.792786  -3.019186  ...   6.805961   6.002265   \n",
       "..         ...        ...        ...        ...  ...        ...        ...   \n",
       "995  44.262737  22.788572  58.082286 -69.526880  ... -57.907315 -30.282534   \n",
       "996  43.789529  22.302350  57.727557 -70.383159  ... -58.823098 -31.021199   \n",
       "997  44.220604  22.720442  58.277463 -70.336305  ... -58.835998 -30.856352   \n",
       "998  43.117706  21.604596  57.293749 -71.824574  ... -60.384272 -32.226251   \n",
       "999  44.046532  22.520505  58.342113 -71.282274  ... -59.902228 -31.565200   \n",
       "\n",
       "          93          94         95          96         97        98   \\\n",
       "0   -2.052453   -2.984045   5.750429    2.135754  -1.234049  3.500585   \n",
       "1   -3.410375   -4.346935   4.396159    0.773647  -2.607035  2.130640   \n",
       "2   -2.825807   -3.767381   4.984377    1.354042  -2.037531  2.703165   \n",
       "3   -1.557653   -2.504284   6.256181    2.618039  -0.784438  3.959257   \n",
       "4   -1.924977   -2.876709   5.892506    2.246572  -1.166821  3.579851   \n",
       "..        ...         ...        ...         ...        ...       ...   \n",
       "995  2.509291 -114.436776  14.101042  109.678623  11.649459  0.666863   \n",
       "996  1.898045 -115.441524  13.503160  109.438779  11.124500  0.086051   \n",
       "997  2.190637 -115.543472  13.809172  110.103751  11.503708  0.409258   \n",
       "998  0.948811 -117.180880  12.580823  109.235287  10.348831 -0.801770   \n",
       "999  1.738263 -116.788054  13.383808  110.399081  11.225562  0.018661   \n",
       "\n",
       "           99         100  \n",
       "0     3.206284  -2.015092  \n",
       "1     1.840478  -3.376963  \n",
       "2     2.417138  -2.796368  \n",
       "3     3.677362  -1.532206  \n",
       "4     3.302087  -1.903542  \n",
       "..         ...        ...  \n",
       "995  27.882475  93.843512  \n",
       "996  27.430621  93.598580  \n",
       "997  27.883253  94.258542  \n",
       "998  26.802116  93.385145  \n",
       "999  27.752907  94.544086  \n",
       "\n",
       "[1000 rows x 101 columns]"
      ]
     },
     "execution_count": 2,
     "metadata": {},
     "output_type": "execute_result"
    }
   ],
   "source": [
    "import pandas as pd \n",
    "\n",
    "data = pd.read_excel(\"E01-RegresionLineal.xlsx\")\n",
    "data"
   ]
  },
  {
   "cell_type": "code",
   "execution_count": 3,
   "id": "3d62acfa",
   "metadata": {},
   "outputs": [
    {
     "data": {
      "text/plain": [
       "Int64Index([  0,   1,   2,   3,   4,   5,   6,   7,   8,   9,\n",
       "            ...\n",
       "             91,  92,  93,  94,  95,  96,  97,  98,  99, 100],\n",
       "           dtype='int64', length=101)"
      ]
     },
     "execution_count": 3,
     "metadata": {},
     "output_type": "execute_result"
    }
   ],
   "source": [
    "data.columns"
   ]
  },
  {
   "cell_type": "code",
   "execution_count": 4,
   "id": "f239e444",
   "metadata": {},
   "outputs": [
    {
     "data": {
      "text/plain": [
       "array([0.        , 0.002002  , 0.004004  , 0.00600601, 0.00800801,\n",
       "       0.01001001, 0.01201201, 0.01401401, 0.01601602, 0.01801802,\n",
       "       0.02002002, 0.02202202, 0.02402402, 0.02602603, 0.02802803,\n",
       "       0.03003003, 0.03203203, 0.03403403, 0.03603604, 0.03803804,\n",
       "       0.04004004, 0.04204204, 0.04404404, 0.04604605, 0.04804805,\n",
       "       0.05005005, 0.05205205, 0.05405405, 0.05605606, 0.05805806,\n",
       "       0.06006006, 0.06206206, 0.06406406, 0.06606607, 0.06806807,\n",
       "       0.07007007, 0.07207207, 0.07407407, 0.07607608, 0.07807808,\n",
       "       0.08008008, 0.08208208, 0.08408408, 0.08608609, 0.08808809,\n",
       "       0.09009009, 0.09209209, 0.09409409, 0.0960961 , 0.0980981 ,\n",
       "       0.1001001 , 0.1021021 , 0.1041041 , 0.10610611, 0.10810811,\n",
       "       0.11011011, 0.11211211, 0.11411411, 0.11611612, 0.11811812,\n",
       "       0.12012012, 0.12212212, 0.12412412, 0.12612613, 0.12812813,\n",
       "       0.13013013, 0.13213213, 0.13413413, 0.13613614, 0.13813814,\n",
       "       0.14014014, 0.14214214, 0.14414414, 0.14614615, 0.14814815,\n",
       "       0.15015015, 0.15215215, 0.15415415, 0.15615616, 0.15815816,\n",
       "       0.16016016, 0.16216216, 0.16416416, 0.16616617, 0.16816817,\n",
       "       0.17017017, 0.17217217, 0.17417417, 0.17617618, 0.17817818,\n",
       "       0.18018018, 0.18218218, 0.18418418, 0.18618619, 0.18818819,\n",
       "       0.19019019, 0.19219219, 0.19419419, 0.1961962 , 0.1981982 ,\n",
       "       0.2002002 , 0.2022022 , 0.2042042 , 0.20620621, 0.20820821,\n",
       "       0.21021021, 0.21221221, 0.21421421, 0.21621622, 0.21821822,\n",
       "       0.22022022, 0.22222222, 0.22422422, 0.22622623, 0.22822823,\n",
       "       0.23023023, 0.23223223, 0.23423423, 0.23623624, 0.23823824,\n",
       "       0.24024024, 0.24224224, 0.24424424, 0.24624625, 0.24824825,\n",
       "       0.25025025, 0.25225225, 0.25425425, 0.25625626, 0.25825826,\n",
       "       0.26026026, 0.26226226, 0.26426426, 0.26626627, 0.26826827,\n",
       "       0.27027027, 0.27227227, 0.27427427, 0.27627628, 0.27827828,\n",
       "       0.28028028, 0.28228228, 0.28428428, 0.28628629, 0.28828829,\n",
       "       0.29029029, 0.29229229, 0.29429429, 0.2962963 , 0.2982983 ,\n",
       "       0.3003003 , 0.3023023 , 0.3043043 , 0.30630631, 0.30830831,\n",
       "       0.31031031, 0.31231231, 0.31431431, 0.31631632, 0.31831832,\n",
       "       0.32032032, 0.32232232, 0.32432432, 0.32632633, 0.32832833,\n",
       "       0.33033033, 0.33233233, 0.33433433, 0.33633634, 0.33833834,\n",
       "       0.34034034, 0.34234234, 0.34434434, 0.34634635, 0.34834835,\n",
       "       0.35035035, 0.35235235, 0.35435435, 0.35635636, 0.35835836,\n",
       "       0.36036036, 0.36236236, 0.36436436, 0.36636637, 0.36836837,\n",
       "       0.37037037, 0.37237237, 0.37437437, 0.37637638, 0.37837838,\n",
       "       0.38038038, 0.38238238, 0.38438438, 0.38638639, 0.38838839,\n",
       "       0.39039039, 0.39239239, 0.39439439, 0.3963964 , 0.3983984 ,\n",
       "       0.4004004 , 0.4024024 , 0.4044044 , 0.40640641, 0.40840841,\n",
       "       0.41041041, 0.41241241, 0.41441441, 0.41641642, 0.41841842,\n",
       "       0.42042042, 0.42242242, 0.42442442, 0.42642643, 0.42842843,\n",
       "       0.43043043, 0.43243243, 0.43443443, 0.43643644, 0.43843844,\n",
       "       0.44044044, 0.44244244, 0.44444444, 0.44644645, 0.44844845,\n",
       "       0.45045045, 0.45245245, 0.45445445, 0.45645646, 0.45845846,\n",
       "       0.46046046, 0.46246246, 0.46446446, 0.46646647, 0.46846847,\n",
       "       0.47047047, 0.47247247, 0.47447447, 0.47647648, 0.47847848,\n",
       "       0.48048048, 0.48248248, 0.48448448, 0.48648649, 0.48848849,\n",
       "       0.49049049, 0.49249249, 0.49449449, 0.4964965 , 0.4984985 ,\n",
       "       0.5005005 , 0.5025025 , 0.5045045 , 0.50650651, 0.50850851,\n",
       "       0.51051051, 0.51251251, 0.51451451, 0.51651652, 0.51851852,\n",
       "       0.52052052, 0.52252252, 0.52452452, 0.52652653, 0.52852853,\n",
       "       0.53053053, 0.53253253, 0.53453453, 0.53653654, 0.53853854,\n",
       "       0.54054054, 0.54254254, 0.54454454, 0.54654655, 0.54854855,\n",
       "       0.55055055, 0.55255255, 0.55455455, 0.55655656, 0.55855856,\n",
       "       0.56056056, 0.56256256, 0.56456456, 0.56656657, 0.56856857,\n",
       "       0.57057057, 0.57257257, 0.57457457, 0.57657658, 0.57857858,\n",
       "       0.58058058, 0.58258258, 0.58458458, 0.58658659, 0.58858859,\n",
       "       0.59059059, 0.59259259, 0.59459459, 0.5965966 , 0.5985986 ,\n",
       "       0.6006006 , 0.6026026 , 0.6046046 , 0.60660661, 0.60860861,\n",
       "       0.61061061, 0.61261261, 0.61461461, 0.61661662, 0.61861862,\n",
       "       0.62062062, 0.62262262, 0.62462462, 0.62662663, 0.62862863,\n",
       "       0.63063063, 0.63263263, 0.63463463, 0.63663664, 0.63863864,\n",
       "       0.64064064, 0.64264264, 0.64464464, 0.64664665, 0.64864865,\n",
       "       0.65065065, 0.65265265, 0.65465465, 0.65665666, 0.65865866,\n",
       "       0.66066066, 0.66266266, 0.66466466, 0.66666667, 0.66866867,\n",
       "       0.67067067, 0.67267267, 0.67467467, 0.67667668, 0.67867868,\n",
       "       0.68068068, 0.68268268, 0.68468468, 0.68668669, 0.68868869,\n",
       "       0.69069069, 0.69269269, 0.69469469, 0.6966967 , 0.6986987 ,\n",
       "       0.7007007 , 0.7027027 , 0.7047047 , 0.70670671, 0.70870871,\n",
       "       0.71071071, 0.71271271, 0.71471471, 0.71671672, 0.71871872,\n",
       "       0.72072072, 0.72272272, 0.72472472, 0.72672673, 0.72872873,\n",
       "       0.73073073, 0.73273273, 0.73473473, 0.73673674, 0.73873874,\n",
       "       0.74074074, 0.74274274, 0.74474474, 0.74674675, 0.74874875,\n",
       "       0.75075075, 0.75275275, 0.75475475, 0.75675676, 0.75875876,\n",
       "       0.76076076, 0.76276276, 0.76476476, 0.76676677, 0.76876877,\n",
       "       0.77077077, 0.77277277, 0.77477477, 0.77677678, 0.77877878,\n",
       "       0.78078078, 0.78278278, 0.78478478, 0.78678679, 0.78878879,\n",
       "       0.79079079, 0.79279279, 0.79479479, 0.7967968 , 0.7987988 ,\n",
       "       0.8008008 , 0.8028028 , 0.8048048 , 0.80680681, 0.80880881,\n",
       "       0.81081081, 0.81281281, 0.81481481, 0.81681682, 0.81881882,\n",
       "       0.82082082, 0.82282282, 0.82482482, 0.82682683, 0.82882883,\n",
       "       0.83083083, 0.83283283, 0.83483483, 0.83683684, 0.83883884,\n",
       "       0.84084084, 0.84284284, 0.84484484, 0.84684685, 0.84884885,\n",
       "       0.85085085, 0.85285285, 0.85485485, 0.85685686, 0.85885886,\n",
       "       0.86086086, 0.86286286, 0.86486486, 0.86686687, 0.86886887,\n",
       "       0.87087087, 0.87287287, 0.87487487, 0.87687688, 0.87887888,\n",
       "       0.88088088, 0.88288288, 0.88488488, 0.88688689, 0.88888889,\n",
       "       0.89089089, 0.89289289, 0.89489489, 0.8968969 , 0.8988989 ,\n",
       "       0.9009009 , 0.9029029 , 0.9049049 , 0.90690691, 0.90890891,\n",
       "       0.91091091, 0.91291291, 0.91491491, 0.91691692, 0.91891892,\n",
       "       0.92092092, 0.92292292, 0.92492492, 0.92692693, 0.92892893,\n",
       "       0.93093093, 0.93293293, 0.93493493, 0.93693694, 0.93893894,\n",
       "       0.94094094, 0.94294294, 0.94494494, 0.94694695, 0.94894895,\n",
       "       0.95095095, 0.95295295, 0.95495495, 0.95695696, 0.95895896,\n",
       "       0.96096096, 0.96296296, 0.96496496, 0.96696697, 0.96896897,\n",
       "       0.97097097, 0.97297297, 0.97497497, 0.97697698, 0.97897898,\n",
       "       0.98098098, 0.98298298, 0.98498498, 0.98698699, 0.98898899,\n",
       "       0.99099099, 0.99299299, 0.99499499, 0.996997  , 0.998999  ,\n",
       "       1.001001  , 1.003003  , 1.00500501, 1.00700701, 1.00900901,\n",
       "       1.01101101, 1.01301301, 1.01501502, 1.01701702, 1.01901902,\n",
       "       1.02102102, 1.02302302, 1.02502503, 1.02702703, 1.02902903,\n",
       "       1.03103103, 1.03303303, 1.03503504, 1.03703704, 1.03903904,\n",
       "       1.04104104, 1.04304304, 1.04504505, 1.04704705, 1.04904905,\n",
       "       1.05105105, 1.05305305, 1.05505506, 1.05705706, 1.05905906,\n",
       "       1.06106106, 1.06306306, 1.06506507, 1.06706707, 1.06906907,\n",
       "       1.07107107, 1.07307307, 1.07507508, 1.07707708, 1.07907908,\n",
       "       1.08108108, 1.08308308, 1.08508509, 1.08708709, 1.08908909,\n",
       "       1.09109109, 1.09309309, 1.0950951 , 1.0970971 , 1.0990991 ,\n",
       "       1.1011011 , 1.1031031 , 1.10510511, 1.10710711, 1.10910911,\n",
       "       1.11111111, 1.11311311, 1.11511512, 1.11711712, 1.11911912,\n",
       "       1.12112112, 1.12312312, 1.12512513, 1.12712713, 1.12912913,\n",
       "       1.13113113, 1.13313313, 1.13513514, 1.13713714, 1.13913914,\n",
       "       1.14114114, 1.14314314, 1.14514515, 1.14714715, 1.14914915,\n",
       "       1.15115115, 1.15315315, 1.15515516, 1.15715716, 1.15915916,\n",
       "       1.16116116, 1.16316316, 1.16516517, 1.16716717, 1.16916917,\n",
       "       1.17117117, 1.17317317, 1.17517518, 1.17717718, 1.17917918,\n",
       "       1.18118118, 1.18318318, 1.18518519, 1.18718719, 1.18918919,\n",
       "       1.19119119, 1.19319319, 1.1951952 , 1.1971972 , 1.1991992 ,\n",
       "       1.2012012 , 1.2032032 , 1.20520521, 1.20720721, 1.20920921,\n",
       "       1.21121121, 1.21321321, 1.21521522, 1.21721722, 1.21921922,\n",
       "       1.22122122, 1.22322322, 1.22522523, 1.22722723, 1.22922923,\n",
       "       1.23123123, 1.23323323, 1.23523524, 1.23723724, 1.23923924,\n",
       "       1.24124124, 1.24324324, 1.24524525, 1.24724725, 1.24924925,\n",
       "       1.25125125, 1.25325325, 1.25525526, 1.25725726, 1.25925926,\n",
       "       1.26126126, 1.26326326, 1.26526527, 1.26726727, 1.26926927,\n",
       "       1.27127127, 1.27327327, 1.27527528, 1.27727728, 1.27927928,\n",
       "       1.28128128, 1.28328328, 1.28528529, 1.28728729, 1.28928929,\n",
       "       1.29129129, 1.29329329, 1.2952953 , 1.2972973 , 1.2992993 ,\n",
       "       1.3013013 , 1.3033033 , 1.30530531, 1.30730731, 1.30930931,\n",
       "       1.31131131, 1.31331331, 1.31531532, 1.31731732, 1.31931932,\n",
       "       1.32132132, 1.32332332, 1.32532533, 1.32732733, 1.32932933,\n",
       "       1.33133133, 1.33333333, 1.33533534, 1.33733734, 1.33933934,\n",
       "       1.34134134, 1.34334334, 1.34534535, 1.34734735, 1.34934935,\n",
       "       1.35135135, 1.35335335, 1.35535536, 1.35735736, 1.35935936,\n",
       "       1.36136136, 1.36336336, 1.36536537, 1.36736737, 1.36936937,\n",
       "       1.37137137, 1.37337337, 1.37537538, 1.37737738, 1.37937938,\n",
       "       1.38138138, 1.38338338, 1.38538539, 1.38738739, 1.38938939,\n",
       "       1.39139139, 1.39339339, 1.3953954 , 1.3973974 , 1.3993994 ,\n",
       "       1.4014014 , 1.4034034 , 1.40540541, 1.40740741, 1.40940941,\n",
       "       1.41141141, 1.41341341, 1.41541542, 1.41741742, 1.41941942,\n",
       "       1.42142142, 1.42342342, 1.42542543, 1.42742743, 1.42942943,\n",
       "       1.43143143, 1.43343343, 1.43543544, 1.43743744, 1.43943944,\n",
       "       1.44144144, 1.44344344, 1.44544545, 1.44744745, 1.44944945,\n",
       "       1.45145145, 1.45345345, 1.45545546, 1.45745746, 1.45945946,\n",
       "       1.46146146, 1.46346346, 1.46546547, 1.46746747, 1.46946947,\n",
       "       1.47147147, 1.47347347, 1.47547548, 1.47747748, 1.47947948,\n",
       "       1.48148148, 1.48348348, 1.48548549, 1.48748749, 1.48948949,\n",
       "       1.49149149, 1.49349349, 1.4954955 , 1.4974975 , 1.4994995 ,\n",
       "       1.5015015 , 1.5035035 , 1.50550551, 1.50750751, 1.50950951,\n",
       "       1.51151151, 1.51351351, 1.51551552, 1.51751752, 1.51951952,\n",
       "       1.52152152, 1.52352352, 1.52552553, 1.52752753, 1.52952953,\n",
       "       1.53153153, 1.53353353, 1.53553554, 1.53753754, 1.53953954,\n",
       "       1.54154154, 1.54354354, 1.54554555, 1.54754755, 1.54954955,\n",
       "       1.55155155, 1.55355355, 1.55555556, 1.55755756, 1.55955956,\n",
       "       1.56156156, 1.56356356, 1.56556557, 1.56756757, 1.56956957,\n",
       "       1.57157157, 1.57357357, 1.57557558, 1.57757758, 1.57957958,\n",
       "       1.58158158, 1.58358358, 1.58558559, 1.58758759, 1.58958959,\n",
       "       1.59159159, 1.59359359, 1.5955956 , 1.5975976 , 1.5995996 ,\n",
       "       1.6016016 , 1.6036036 , 1.60560561, 1.60760761, 1.60960961,\n",
       "       1.61161161, 1.61361361, 1.61561562, 1.61761762, 1.61961962,\n",
       "       1.62162162, 1.62362362, 1.62562563, 1.62762763, 1.62962963,\n",
       "       1.63163163, 1.63363363, 1.63563564, 1.63763764, 1.63963964,\n",
       "       1.64164164, 1.64364364, 1.64564565, 1.64764765, 1.64964965,\n",
       "       1.65165165, 1.65365365, 1.65565566, 1.65765766, 1.65965966,\n",
       "       1.66166166, 1.66366366, 1.66566567, 1.66766767, 1.66966967,\n",
       "       1.67167167, 1.67367367, 1.67567568, 1.67767768, 1.67967968,\n",
       "       1.68168168, 1.68368368, 1.68568569, 1.68768769, 1.68968969,\n",
       "       1.69169169, 1.69369369, 1.6956957 , 1.6976977 , 1.6996997 ,\n",
       "       1.7017017 , 1.7037037 , 1.70570571, 1.70770771, 1.70970971,\n",
       "       1.71171171, 1.71371371, 1.71571572, 1.71771772, 1.71971972,\n",
       "       1.72172172, 1.72372372, 1.72572573, 1.72772773, 1.72972973,\n",
       "       1.73173173, 1.73373373, 1.73573574, 1.73773774, 1.73973974,\n",
       "       1.74174174, 1.74374374, 1.74574575, 1.74774775, 1.74974975,\n",
       "       1.75175175, 1.75375375, 1.75575576, 1.75775776, 1.75975976,\n",
       "       1.76176176, 1.76376376, 1.76576577, 1.76776777, 1.76976977,\n",
       "       1.77177177, 1.77377377, 1.77577578, 1.77777778, 1.77977978,\n",
       "       1.78178178, 1.78378378, 1.78578579, 1.78778779, 1.78978979,\n",
       "       1.79179179, 1.79379379, 1.7957958 , 1.7977978 , 1.7997998 ,\n",
       "       1.8018018 , 1.8038038 , 1.80580581, 1.80780781, 1.80980981,\n",
       "       1.81181181, 1.81381381, 1.81581582, 1.81781782, 1.81981982,\n",
       "       1.82182182, 1.82382382, 1.82582583, 1.82782783, 1.82982983,\n",
       "       1.83183183, 1.83383383, 1.83583584, 1.83783784, 1.83983984,\n",
       "       1.84184184, 1.84384384, 1.84584585, 1.84784785, 1.84984985,\n",
       "       1.85185185, 1.85385385, 1.85585586, 1.85785786, 1.85985986,\n",
       "       1.86186186, 1.86386386, 1.86586587, 1.86786787, 1.86986987,\n",
       "       1.87187187, 1.87387387, 1.87587588, 1.87787788, 1.87987988,\n",
       "       1.88188188, 1.88388388, 1.88588589, 1.88788789, 1.88988989,\n",
       "       1.89189189, 1.89389389, 1.8958959 , 1.8978979 , 1.8998999 ,\n",
       "       1.9019019 , 1.9039039 , 1.90590591, 1.90790791, 1.90990991,\n",
       "       1.91191191, 1.91391391, 1.91591592, 1.91791792, 1.91991992,\n",
       "       1.92192192, 1.92392392, 1.92592593, 1.92792793, 1.92992993,\n",
       "       1.93193193, 1.93393393, 1.93593594, 1.93793794, 1.93993994,\n",
       "       1.94194194, 1.94394394, 1.94594595, 1.94794795, 1.94994995,\n",
       "       1.95195195, 1.95395395, 1.95595596, 1.95795796, 1.95995996,\n",
       "       1.96196196, 1.96396396, 1.96596597, 1.96796797, 1.96996997,\n",
       "       1.97197197, 1.97397397, 1.97597598, 1.97797798, 1.97997998,\n",
       "       1.98198198, 1.98398398, 1.98598599, 1.98798799, 1.98998999,\n",
       "       1.99199199, 1.99399399, 1.995996  , 1.997998  , 2.        ])"
      ]
     },
     "execution_count": 4,
     "metadata": {},
     "output_type": "execute_result"
    }
   ],
   "source": [
    "x = data[0].values\n",
    "x"
   ]
  },
  {
   "cell_type": "code",
   "execution_count": 5,
   "id": "802c198d",
   "metadata": {
    "scrolled": true
   },
   "outputs": [
    {
     "data": {
      "text/plain": [
       "array([5.59482832, 4.22513304, 4.79793071, 6.05432007, 5.67523647,\n",
       "       2.82466986, 4.74632327, 3.63918282, 3.68164462, 4.18980388,\n",
       "       3.9176095 , 5.22221886, 4.52338155, 3.87843656, 4.19506194,\n",
       "       4.07932983, 5.23421121, 3.52947053, 4.04221336, 2.86958719,\n",
       "       1.16525098, 4.36643803, 4.57185525, 2.9598748 , 5.96643655,\n",
       "       2.23697988, 3.73178942, 3.49355428, 5.20824664, 5.13957775,\n",
       "       3.8199404 , 4.03795209, 2.7668232 , 1.66865483, 3.29640464,\n",
       "       3.79555457, 4.86440858, 4.83143371, 3.23668684, 3.31669471,\n",
       "       2.56545248, 2.18901983, 1.89782442, 5.54995153, 3.08463033,\n",
       "       3.15133959, 2.3317751 , 4.35724272, 1.96106193, 3.35745258,\n",
       "       2.6699852 , 3.94763916, 3.04524256, 2.37075286, 3.51856662,\n",
       "       3.97047114, 3.60407369, 3.83547249, 2.8941497 , 3.16122906,\n",
       "       2.84703559, 3.15549623, 2.69748415, 1.77995669, 3.67930229,\n",
       "       3.09576018, 1.86303602, 3.95173828, 2.57740789, 3.53243057,\n",
       "       4.20538351, 3.60111262, 4.60739628, 2.22906493, 3.86215694,\n",
       "       2.77095931, 2.58095602, 2.86891709, 3.13225776, 3.49604925,\n",
       "       2.27083789, 4.33294839, 3.89394899, 1.88823811, 4.90895998,\n",
       "       5.31285381, 4.59203203, 3.22964658, 2.33516898, 4.45675488,\n",
       "       2.99553924, 4.6176059 , 3.59991218, 4.36478447, 3.74105202,\n",
       "       4.08783107, 3.38836241, 5.16036969, 3.49808053, 3.76985959,\n",
       "       5.24775538, 2.01361286, 2.08768705, 4.32440188, 2.178748  ,\n",
       "       5.29239205, 2.93208466, 2.59521505, 5.26261164, 4.81721781,\n",
       "       5.20132913, 4.23691583, 2.46678044, 5.23524009, 3.05437494,\n",
       "       4.12207213, 4.26413948, 3.15918365, 3.9256139 , 4.23111663,\n",
       "       3.68274565, 2.20436433, 3.59948322, 4.62514588, 2.60174218,\n",
       "       3.14426075, 2.85636228, 5.13843547, 3.95915788, 3.69205189,\n",
       "       2.51243654, 3.81940009, 2.60365232, 3.30768551, 2.63791481,\n",
       "       3.94813617, 3.84627181, 3.05939655, 3.66175262, 2.17077136,\n",
       "       1.77069868, 3.69950788, 3.42498617, 3.89157727, 5.63796049,\n",
       "       4.19760189, 2.33864374, 4.36686275, 1.93235656, 2.78513395,\n",
       "       3.17696868, 4.95708195, 2.49755062, 2.41447045, 3.14109741,\n",
       "       2.57475006, 4.3635802 , 2.15576628, 2.0870203 , 2.79549776,\n",
       "       2.73415196, 5.16062089, 4.17945193, 3.31656258, 2.00259401,\n",
       "       4.07144871, 2.22596468, 1.68054135, 4.41251284, 3.54063449,\n",
       "       4.1437978 , 3.54095205, 4.07837879, 2.56988479, 2.18606819,\n",
       "       3.9013447 , 2.41581821, 2.52919437, 2.76276654, 3.23537176,\n",
       "       2.86353094, 1.84224454, 2.57328719, 0.99325101, 3.84167302,\n",
       "       1.6142102 , 2.1117497 , 3.26820225, 2.47641727, 4.75897696,\n",
       "       1.92312658, 3.48309454, 3.17686012, 2.04818781, 3.73973547,\n",
       "       3.04512914, 3.98872186, 4.04073051, 5.38079657, 4.55446209,\n",
       "       2.84916507, 2.97941979, 4.31894992, 3.87508472, 3.86052252,\n",
       "       1.60404429, 3.19732292, 2.48430621, 3.50298918, 3.12568104,\n",
       "       4.1348166 , 3.54270157, 4.01269641, 2.76087387, 2.28381067,\n",
       "       2.81921062, 3.21328273, 3.61053716, 5.49181611, 3.19141119,\n",
       "       2.27892397, 2.89012727, 2.7737926 , 3.72018902, 1.69926895,\n",
       "       3.30472581, 3.39940765, 3.47655886, 2.64857789, 3.00952777,\n",
       "       1.82498354, 2.75735891, 2.70949104, 3.67011566, 2.09963563,\n",
       "       4.03880795, 4.75392552, 1.19132638, 3.68947987, 3.94207818,\n",
       "       2.62972139, 2.87191411, 3.13837208, 2.97556771, 2.96649073,\n",
       "       1.60168415, 4.43224291, 4.36179244, 2.47111116, 1.82039172,\n",
       "       3.81026057, 2.71582637, 3.43602511, 2.97724008, 3.99064269,\n",
       "       3.9964274 , 2.57869403, 1.92357941, 1.72669569, 3.92274292,\n",
       "       2.12627243, 2.81112213, 2.72446986, 3.2711006 , 1.39031061,\n",
       "       3.51833003, 3.85644192, 3.42401086, 3.02777883, 3.43917971,\n",
       "       3.74397871, 0.57553064, 5.3072649 , 3.74471324, 2.70551674,\n",
       "       2.97031536, 3.8583919 , 3.25196548, 1.3408421 , 5.43951439,\n",
       "       3.26801358, 4.40229735, 2.69368283, 4.92575533, 3.67940509,\n",
       "       4.00562581, 2.35528657, 4.61548052, 4.09798595, 4.71388377,\n",
       "       2.78785687, 2.93886126, 5.72778604, 2.3678714 , 3.29599228,\n",
       "       4.57292488, 3.53788675, 4.02728037, 3.04907915, 3.82282205,\n",
       "       2.15051372, 5.11948201, 3.34753432, 2.78990339, 4.14088402,\n",
       "       3.01823653, 2.14918918, 2.14125736, 4.18631102, 3.33756313,\n",
       "       3.36806934, 4.58418458, 2.38432028, 2.78520902, 3.13578292,\n",
       "       3.61982546, 3.48814866, 3.24831417, 3.47849112, 3.43776322,\n",
       "       2.83044981, 2.74208155, 3.83464577, 2.67430363, 2.41298711,\n",
       "       3.26320801, 3.42302528, 5.84264187, 2.88647811, 4.53973296,\n",
       "       4.34898816, 2.41821609, 4.38580877, 2.43410331, 0.96427319,\n",
       "       4.23525963, 1.87857729, 4.09096309, 2.96161136, 5.31079945,\n",
       "       4.72541709, 3.20921346, 2.98048565, 2.46000216, 3.23894541,\n",
       "       3.40533311, 3.32684757, 3.85412931, 4.28186301, 4.05894361,\n",
       "       2.95112435, 2.28348726, 5.09185226, 3.04394401, 3.08720334,\n",
       "       3.22444222, 1.90872728, 3.28001872, 3.28456326, 4.39083405,\n",
       "       4.47521977, 3.78685044, 4.72127478, 4.13576804, 3.78652726,\n",
       "       3.96957337, 3.62445692, 3.42675536, 3.56039491, 2.70666965,\n",
       "       4.12170405, 2.85474877, 4.69614223, 3.61171937, 3.91736816,\n",
       "       4.36843329, 4.52466228, 2.31750351, 3.68803001, 4.78194688,\n",
       "       2.21052379, 4.30279894, 1.66687015, 2.90687035, 3.97497732,\n",
       "       2.28662782, 2.96485479, 2.48557941, 5.61262435, 4.13581815,\n",
       "       4.54600745, 3.76319449, 3.63961574, 2.38377652, 3.71564173,\n",
       "       3.25324024, 4.87993457, 5.17041536, 5.50321955, 4.89654444,\n",
       "       3.45271438, 2.94287113, 4.83285491, 4.42993179, 2.31257123,\n",
       "       4.44408548, 4.91064063, 4.16258646, 3.92617003, 3.31116062,\n",
       "       2.67988222, 4.93434491, 3.83258461, 3.91590635, 5.88978983,\n",
       "       4.84928688, 4.54334922, 4.3223456 , 5.70805917, 5.91545489,\n",
       "       5.13319253, 4.79375422, 2.12478896, 4.35099634, 4.10506967,\n",
       "       4.33705166, 5.19408574, 1.51932293, 3.69766751, 4.54488222,\n",
       "       3.81614925, 2.87412405, 5.16804724, 4.58402729, 3.34414027,\n",
       "       4.63816913, 5.15306215, 4.34491082, 5.14834172, 4.43421264,\n",
       "       3.96891564, 3.21293266, 4.29464714, 4.58311156, 5.27290785,\n",
       "       4.29023965, 4.87105008, 3.45732495, 3.64762521, 4.32819716,\n",
       "       3.39230456, 5.27554169, 4.92679906, 4.75115319, 4.81936385,\n",
       "       6.50991896, 4.02844005, 2.30430472, 4.71350069, 4.47206392,\n",
       "       4.01362765, 3.56080809, 4.10895149, 4.73799409, 4.06236495,\n",
       "       6.98617243, 3.62176236, 3.79770802, 2.3107744 , 4.85945809,\n",
       "       2.60015624, 4.08570713, 4.3580996 , 3.93265978, 6.38988703,\n",
       "       5.6540441 , 5.98743046, 3.79452692, 5.81419998, 5.19027482,\n",
       "       5.47435533, 5.74107101, 3.81155878, 4.30470105, 5.60031789,\n",
       "       2.09081228, 6.26847501, 5.31700035, 4.72689122, 5.00183503,\n",
       "       3.76012933, 4.44886327, 5.90783752, 6.11432597, 7.52128288,\n",
       "       4.75989275, 4.18402653, 4.33711084, 3.84207121, 4.79102932,\n",
       "       5.26038994, 4.85219085, 5.9915575 , 4.66977403, 4.56531973,\n",
       "       4.34028358, 3.29770003, 3.37134992, 3.76874309, 6.2581125 ,\n",
       "       5.86072786, 6.3492143 , 3.65082042, 3.02318817, 4.34053596,\n",
       "       5.18518904, 5.51683626, 6.07489186, 5.31997062, 6.78712823,\n",
       "       4.83061924, 4.14890786, 3.38952743, 4.19052896, 5.33036879,\n",
       "       4.20827662, 6.04248065, 6.52680216, 2.75361849, 5.99598303,\n",
       "       2.90104609, 5.55086243, 6.38294066, 5.23162614, 3.89577371,\n",
       "       4.59871714, 4.93118069, 5.01925115, 5.00726062, 5.10892763,\n",
       "       5.44093453, 4.02751571, 5.00269493, 6.77159154, 4.87729045,\n",
       "       4.82669489, 6.35731268, 2.72850409, 6.47762941, 4.67289746,\n",
       "       5.47726826, 5.41818724, 6.27284764, 5.07128552, 4.66934203,\n",
       "       6.65368762, 3.00012821, 5.39308225, 4.03325422, 4.62802303,\n",
       "       7.40925477, 5.36178891, 5.60982452, 3.64154637, 4.70240258,\n",
       "       5.63632592, 5.80283045, 6.07324616, 5.47325665, 5.99988407,\n",
       "       5.93489452, 3.65958624, 5.53452739, 6.27359974, 6.10373312,\n",
       "       5.15813042, 4.72447829, 4.41988774, 5.41521949, 6.68740583,\n",
       "       3.61055259, 4.91047364, 4.4385492 , 6.37127272, 5.03994604,\n",
       "       5.13153504, 5.39311639, 6.06332836, 5.23339079, 2.58745661,\n",
       "       6.18470626, 6.08820653, 5.43736588, 4.58058741, 6.02409471,\n",
       "       6.05921377, 5.21758173, 5.47849188, 4.77264761, 5.53176743,\n",
       "       4.1674509 , 6.14269372, 4.78847165, 5.97837875, 4.341718  ,\n",
       "       5.16499808, 5.65191027, 4.10901257, 5.89214137, 5.40509508,\n",
       "       4.04910326, 4.49540082, 6.4109147 , 6.7084682 , 5.68808736,\n",
       "       6.23180742, 6.05790421, 6.17066374, 7.13396957, 4.34789629,\n",
       "       6.53822848, 5.48659541, 5.65114523, 5.57991704, 5.51374468,\n",
       "       4.66938268, 6.08556679, 7.57978063, 5.85927546, 5.92055483,\n",
       "       5.24113234, 5.81740807, 6.40745963, 5.57742029, 5.50018679,\n",
       "       6.36354163, 5.04851637, 6.22521919, 6.79920279, 7.34494455,\n",
       "       5.90068522, 7.36469149, 7.03748656, 5.01280147, 4.79696765,\n",
       "       5.71578877, 7.05548796, 5.96001892, 5.43735483, 7.59591462,\n",
       "       6.33618717, 3.73425144, 6.37752075, 6.58586611, 6.29685008,\n",
       "       6.52631961, 6.01464772, 4.76879261, 5.72169854, 5.15194931,\n",
       "       5.16993484, 4.84466571, 6.56522872, 6.21558818, 5.67442549,\n",
       "       5.47809774, 6.10880295, 7.21615633, 4.13742617, 6.52314299,\n",
       "       5.60512297, 4.27076104, 4.21409877, 5.25141594, 6.38804874,\n",
       "       6.56588363, 5.23806195, 7.19822823, 7.60829491, 6.58544219,\n",
       "       5.60193673, 7.32168153, 6.95651971, 7.07233138, 5.5521981 ,\n",
       "       3.37778248, 8.33274019, 4.60861948, 6.18721461, 8.60714848,\n",
       "       6.56033553, 7.18229566, 4.73387734, 4.46176555, 5.70982172,\n",
       "       7.33629924, 5.90225757, 5.45676028, 6.45218511, 7.33890542,\n",
       "       4.81471311, 5.05172369, 5.47614062, 7.36192079, 6.50450539,\n",
       "       8.40416717, 7.21071736, 6.24136186, 7.54364735, 6.4921056 ,\n",
       "       5.57765245, 6.96443955, 5.58995417, 5.9976246 , 7.61746955,\n",
       "       6.18999435, 5.48964678, 5.82988569, 7.3173716 , 5.74431991,\n",
       "       5.91119078, 5.78889094, 6.48415175, 5.91569912, 4.70023503,\n",
       "       5.41569145, 5.37080328, 7.54754978, 7.11746018, 6.89251845,\n",
       "       5.8002904 , 5.49016304, 5.79865859, 5.25443295, 8.80356509,\n",
       "       4.06100898, 6.87021889, 5.02145111, 6.20136579, 5.31732555,\n",
       "       5.12722859, 5.16410266, 8.0586374 , 6.16992547, 5.53638422,\n",
       "       6.85695529, 6.31050843, 7.01909206, 4.47360872, 6.60018375,\n",
       "       7.06789604, 4.63213066, 6.74035788, 7.9866832 , 6.27388783,\n",
       "       7.10829977, 6.95551645, 5.57539584, 6.32052667, 4.71152598,\n",
       "       5.82488025, 6.53943519, 6.99431247, 6.29318916, 6.98582563,\n",
       "       5.16009983, 6.15837169, 6.27630952, 8.10348029, 6.03647851,\n",
       "       5.74828136, 6.26519823, 5.32117824, 6.42938534, 5.8678107 ,\n",
       "       4.4376669 , 6.16642999, 5.90338858, 4.58431603, 6.14530482,\n",
       "       7.69738605, 6.72481588, 6.81081178, 4.85265019, 6.66619695,\n",
       "       6.33278864, 6.70831305, 6.59671293, 4.80900728, 6.12197756,\n",
       "       5.39998402, 6.10213288, 5.24906319, 7.45306615, 5.27563903,\n",
       "       5.22956833, 6.19687885, 5.03885767, 5.68483953, 5.27296559,\n",
       "       7.5074103 , 6.87523028, 6.02502476, 5.68422411, 7.00918416,\n",
       "       6.46617398, 6.55160306, 6.01981602, 4.35011213, 5.91808582,\n",
       "       5.49014671, 6.65965136, 7.01827205, 5.34018561, 6.45810187,\n",
       "       7.71704801, 5.3047805 , 7.64561043, 5.10216902, 5.96865093,\n",
       "       5.92535144, 5.93867083, 5.08003721, 5.31694334, 5.23068464,\n",
       "       6.21551273, 6.20859662, 8.09438279, 7.22916943, 5.33794358,\n",
       "       6.1621267 , 6.82370861, 5.84638871, 5.7352037 , 5.84534015,\n",
       "       6.64982275, 4.92286689, 5.43401906, 6.218482  , 6.04771491,\n",
       "       5.96392763, 5.34247821, 6.67260656, 7.82158671, 6.08163735,\n",
       "       5.46940368, 6.40553372, 5.09772779, 4.87409042, 5.6433626 ,\n",
       "       3.01438247, 4.42970556, 5.22202186, 4.20277301, 4.5095467 ,\n",
       "       5.09131857, 3.8708273 , 5.09329446, 4.94951713, 5.4954603 ,\n",
       "       6.6093531 , 5.61263302, 5.44599512, 5.5090364 , 5.62146731,\n",
       "       4.36167161, 5.24781319, 5.65535993, 3.95971018, 6.17982526,\n",
       "       6.37909062, 4.64972032, 5.02297909, 4.36918534, 5.9296526 ,\n",
       "       4.15178326, 4.97309835, 4.31906103, 5.21117594, 3.34806764,\n",
       "       6.4506677 , 4.14134206, 5.14741824, 4.85640762, 4.28805465,\n",
       "       4.14345831, 5.94853641, 4.46722622, 5.24459483, 4.15231385,\n",
       "       4.28684301, 5.3863123 , 5.82434071, 4.6983086 , 3.431223  ,\n",
       "       6.83044128, 3.95510204, 3.24905326, 7.36387711, 4.34405397,\n",
       "       3.26480859, 4.02137713, 5.05045738, 4.85113896, 3.7868318 ,\n",
       "       6.43883623, 4.07190197, 3.38598082, 5.50836266, 5.8535494 ,\n",
       "       3.68362554, 3.07621757, 5.48426284, 2.38257351, 3.17916019,\n",
       "       5.34892424, 4.30163266, 4.06836519, 4.66024602, 4.12959076,\n",
       "       2.95842247, 5.50773611, 5.53103331, 4.38551655, 4.19928832,\n",
       "       6.46755435, 3.82507618, 3.81531512, 4.41255934, 5.49238829,\n",
       "       5.58662691, 3.70787425, 4.2471691 , 2.53294492, 3.57104171,\n",
       "       3.01451507, 2.8195589 , 5.47934943, 2.9766643 , 3.20831881,\n",
       "       4.0765421 , 4.97908132, 4.1327274 , 6.3811164 , 3.51703442,\n",
       "       3.82015138, 3.80655889, 4.93532094, 3.97661321, 3.32203594,\n",
       "       2.45945642, 3.61985514, 4.74500981, 2.90132239, 3.80847224,\n",
       "       3.49328538, 4.07805007, 2.37695263, 5.49531181, 1.83624384,\n",
       "       2.71637508, 3.98632029, 3.31104215, 3.81015533, 2.44970529,\n",
       "       2.83641864, 2.88864845, 4.41064508, 3.49655892, 3.56732117,\n",
       "       2.07701616, 3.6678914 , 2.88842955, 4.01560422, 4.60390126,\n",
       "       2.24622801, 2.10961309, 1.61456272, 2.29748803, 2.02126953,\n",
       "       2.72479372, 2.18248303, 1.92697656, 3.31445171, 1.27304111,\n",
       "       2.60484736, 1.72637832, 2.81703106, 3.43802774, 1.70953199,\n",
       "       2.41328688, 2.11042952, 1.09135517, 2.09046349, 2.09745166,\n",
       "       2.1796132 , 1.52651   , 1.77702229, 0.49289398, 1.23981889])"
      ]
     },
     "execution_count": 5,
     "metadata": {},
     "output_type": "execute_result"
    }
   ],
   "source": [
    "y = data[3].values\n",
    "y"
   ]
  },
  {
   "cell_type": "code",
   "execution_count": null,
   "id": "770def06",
   "metadata": {},
   "outputs": [],
   "source": []
  },
  {
   "cell_type": "markdown",
   "id": "8714fbd7",
   "metadata": {},
   "source": [
    "1. Ajuste los datos con polinomios de grados 1, 3, y 5. Muestre los errores de forma gráfica. ¿Qué polinomio se ajusta mejor?"
   ]
  },
  {
   "cell_type": "code",
   "execution_count": 6,
   "id": "027ba631",
   "metadata": {},
   "outputs": [],
   "source": [
    "import numpy as np\n",
    "import scipy.optimize as opt\n",
    "import matplotlib.pyplot as plt\n",
    "%matplotlib inline\n",
    "\n",
    "\n",
    "m = len(y)\n",
    "ones = np.ones([m, 1])\n",
    "x1 = np.reshape(x, [m, 1])\n",
    "x2 = np.reshape(x**2, [m, 1])\n",
    "x3 = np.reshape(x**3, [m, 1])\n",
    "x4 = np.reshape(x**4, [m, 1])\n",
    "x5 = np.reshape(x**5, [m, 1])\n",
    "\n",
    "X1 = np.hstack((ones, x1))\n",
    "X2 = np.hstack((ones, x1, x2))\n",
    "X3 = np.hstack((ones, x1, x2, x3))\n",
    "X4 = np.hstack((ones, x1, x2, x3, x4))\n",
    "X5 = np.hstack((ones, x1, x2, x3, x4, x5))\n",
    "\n",
    "beta_inicial1 = np.random.rand(2)\n",
    "beta_inicial3 = np.random.rand(4)\n",
    "beta_inicial5 = np.random.rand(6)\n",
    "\n",
    "y_vector = np.reshape(y, [m, 1])\n",
    "\n",
    "def foo(beta, X, y) :\n",
    "    m, n = X.shape\n",
    "    beta = np.reshape(beta, [n, 1])\n",
    "    prediccion = X @ beta\n",
    "    error = prediccion - y\n",
    "    return (error.T @ error)[0][0]\n"
   ]
  },
  {
   "cell_type": "code",
   "execution_count": 7,
   "id": "867c7c09",
   "metadata": {},
   "outputs": [],
   "source": [
    "sol1 = opt.minimize(foo, beta_inicial1, args=(X1, y_vector))\n",
    "sol3 = opt.minimize(foo, beta_inicial3, args=(X3, y_vector))\n",
    "sol5 = opt.minimize(foo, beta_inicial5, args=(X5, y_vector))\n"
   ]
  },
  {
   "cell_type": "code",
   "execution_count": 8,
   "id": "a8b11f31",
   "metadata": {},
   "outputs": [
    {
     "data": {
      "text/plain": [
       "      fun: 1869.665427604856\n",
       " hess_inv: array([[ 6.66338404e-04, -3.55066732e-09],\n",
       "       [-3.55066732e-09,  2.66300049e-09]])\n",
       "      jac: array([1.52587891e-05, 1.52587891e-05])\n",
       "  message: 'Desired error not necessarily achieved due to precision loss.'\n",
       "     nfev: 63\n",
       "      nit: 5\n",
       "     njev: 21\n",
       "   status: 2\n",
       "  success: False\n",
       "        x: array([3.36575037, 1.06717005])"
      ]
     },
     "execution_count": 8,
     "metadata": {},
     "output_type": "execute_result"
    }
   ],
   "source": [
    "sol1"
   ]
  },
  {
   "cell_type": "code",
   "execution_count": 9,
   "id": "dcbdd99e",
   "metadata": {},
   "outputs": [
    {
     "data": {
      "text/plain": [
       "      fun: 991.0960482559841\n",
       " hess_inv: array([[ 0.00924048, -0.03797652,  0.03933109, -0.01166991],\n",
       "       [-0.03797652,  0.19933592, -0.22680201,  0.07082492],\n",
       "       [ 0.03933109, -0.22680201,  0.27066599, -0.08708987],\n",
       "       [-0.01166991,  0.07082492, -0.08708987,  0.02861346]])\n",
       "      jac: array([7.62939453e-06, 7.62939453e-06, 7.62939453e-06, 7.62939453e-06])\n",
       "  message: 'Optimization terminated successfully.'\n",
       "     nfev: 80\n",
       "      nit: 11\n",
       "     njev: 16\n",
       "   status: 0\n",
       "  success: True\n",
       "        x: array([ 4.54217678, -8.99920794, 14.82699032, -5.43918707])"
      ]
     },
     "execution_count": 9,
     "metadata": {},
     "output_type": "execute_result"
    }
   ],
   "source": [
    "sol3"
   ]
  },
  {
   "cell_type": "code",
   "execution_count": 10,
   "id": "02c63d5b",
   "metadata": {},
   "outputs": [
    {
     "data": {
      "text/plain": [
       "      fun: 964.216161972722\n",
       " hess_inv: array([[ 1.52654883e-03,  1.83750247e-04, -2.14368631e-03,\n",
       "        -4.96163741e-04,  8.70822760e-04, -8.80395995e-05],\n",
       "       [ 1.83750247e-04,  2.39177334e-03, -4.07643568e-03,\n",
       "         1.17759478e-03,  1.82470304e-03, -9.24006090e-04],\n",
       "       [-2.14368631e-03, -4.07643568e-03,  1.93454128e-02,\n",
       "        -6.24813053e-03, -8.49617969e-03,  3.90281601e-03],\n",
       "       [-4.96163741e-04,  1.17759478e-03, -6.24813053e-03,\n",
       "         3.57632661e-03,  2.76090136e-03, -1.65781486e-03],\n",
       "       [ 8.70822760e-04,  1.82470304e-03, -8.49617969e-03,\n",
       "         2.76090136e-03,  3.80813457e-03, -1.76143399e-03],\n",
       "       [-8.80395995e-05, -9.24006090e-04,  3.90281601e-03,\n",
       "        -1.65781486e-03, -1.76143399e-03,  9.29581932e-04]])\n",
       "      jac: array([1.52587891e-05, 3.81469727e-05, 6.86645508e-05, 1.06811523e-04,\n",
       "       1.75476074e-04, 3.28063965e-04])\n",
       "  message: 'Desired error not necessarily achieved due to precision loss.'\n",
       "     nfev: 245\n",
       "      nit: 21\n",
       "     njev: 35\n",
       "   status: 2\n",
       "  success: False\n",
       "        x: array([ 4.07953238, -4.47245355,  5.08152467,  1.4407353 , -1.19324296,\n",
       "       -0.18958771])"
      ]
     },
     "execution_count": 10,
     "metadata": {},
     "output_type": "execute_result"
    }
   ],
   "source": [
    "sol5"
   ]
  },
  {
   "cell_type": "code",
   "execution_count": 11,
   "id": "6f34f3a1",
   "metadata": {
    "scrolled": true
   },
   "outputs": [
    {
     "data": {
      "text/plain": [
       "[<matplotlib.lines.Line2D at 0x2796bf8f970>]"
      ]
     },
     "execution_count": 11,
     "metadata": {},
     "output_type": "execute_result"
    },
    {
     "data": {
      "image/png": "[encoded data removed]",
      "text/plain": [
       "<Figure size 640x480 with 1 Axes>"
      ]
     },
     "metadata": {},
     "output_type": "display_data"
    }
   ],
   "source": [
    "plt.figure()\n",
    "plt.scatter(x, y, 5)\n",
    "plt.plot(x, X1 @ sol1.x, \"y\")\n",
    "plt.plot(x, X3 @ sol3.x, \"r\")\n",
    "plt.plot(x, X5 @ sol5.x, \"g\")\n"
   ]
  },
  {
   "cell_type": "code",
   "execution_count": 12,
   "id": "98e682b4",
   "metadata": {},
   "outputs": [
    {
     "data": {
      "text/plain": [
       "<BarContainer object of 3 artists>"
      ]
     },
     "execution_count": 12,
     "metadata": {},
     "output_type": "execute_result"
    },
    {
     "data": {
      "image/png": "[encoded data removed]",
      "text/plain": [
       "<Figure size 640x480 with 1 Axes>"
      ]
     },
     "metadata": {},
     "output_type": "display_data"
    }
   ],
   "source": [
    "plt.figure()\n",
    "plt.bar([1, 3, 5], [sol1.fun, sol3.fun, sol5.fun])\n"
   ]
  },
  {
   "cell_type": "markdown",
   "id": "5f6f3712",
   "metadata": {},
   "source": [
    "## El polinomio que mejor se ajusta es el de grado 5, pues su grado de error es menor."
   ]
  },
  {
   "cell_type": "code",
   "execution_count": null,
   "id": "59c8d289",
   "metadata": {},
   "outputs": [],
   "source": []
  },
  {
   "cell_type": "markdown",
   "id": "59862478",
   "metadata": {},
   "source": [
    "2. Muestre en un gráfico los datos y el polinomio que mejor se ajuste."
   ]
  },
  {
   "cell_type": "code",
   "execution_count": 13,
   "id": "27387213",
   "metadata": {},
   "outputs": [
    {
     "data": {
      "text/plain": [
       "<matplotlib.collections.PathCollection at 0x2796c049430>"
      ]
     },
     "execution_count": 13,
     "metadata": {},
     "output_type": "execute_result"
    },
    {
     "data": {
      "image/png": "[encoded data removed]",
      "text/plain": [
       "<Figure size 640x480 with 1 Axes>"
      ]
     },
     "metadata": {},
     "output_type": "display_data"
    }
   ],
   "source": [
    "# Gráfico de los datos\n",
    "plt.figure()\n",
    "plt.scatter(x, y, 5)"
   ]
  },
  {
   "cell_type": "code",
   "execution_count": 14,
   "id": "f4097aa4",
   "metadata": {},
   "outputs": [
    {
     "data": {
      "text/plain": [
       "[<matplotlib.lines.Line2D at 0x2796c0b5520>]"
      ]
     },
     "execution_count": 14,
     "metadata": {},
     "output_type": "execute_result"
    },
    {
     "data": {
      "image/png": "[encoded data removed]",
      "text/plain": [
       "<Figure size 640x480 with 1 Axes>"
      ]
     },
     "metadata": {},
     "output_type": "display_data"
    }
   ],
   "source": [
    "# Polinomio grado 5 \n",
    "plt.figure()\n",
    "plt.scatter(x, y, 5)\n",
    "plt.plot(x, X5 @ sol5.x, \"g\")"
   ]
  },
  {
   "cell_type": "code",
   "execution_count": 15,
   "id": "1c12c257",
   "metadata": {},
   "outputs": [
    {
     "data": {
      "text/plain": [
       "(array([ 14.,  37.,  83., 157., 230., 217., 149.,  81.,  23.,   9.]),\n",
       " array([-2.82198362, -2.24909154, -1.67619945, -1.10330737, -0.53041528,\n",
       "         0.04247681,  0.61536889,  1.18826098,  1.76115306,  2.33404515,\n",
       "         2.90693723]),\n",
       " <BarContainer object of 10 artists>)"
      ]
     },
     "execution_count": 15,
     "metadata": {},
     "output_type": "execute_result"
    },
    {
     "data": {
      "image/png": "[encoded data removed]",
      "text/plain": [
       "<Figure size 640x480 with 1 Axes>"
      ]
     },
     "metadata": {},
     "output_type": "display_data"
    }
   ],
   "source": [
    "plt.figure()\n",
    "plt.hist((X5 @ sol5.x) - y)"
   ]
  },
  {
   "cell_type": "code",
   "execution_count": null,
   "id": "a8cfef44",
   "metadata": {},
   "outputs": [],
   "source": []
  },
  {
   "cell_type": "markdown",
   "id": "238f342a",
   "metadata": {},
   "source": [
    "3. Use el modelo para averiguar el valor de $y$ cuando:\n",
    "- $x=0.001$\n",
    "- $x=-0.1$\n",
    "- $x=2.1$"
   ]
  },
  {
   "cell_type": "code",
   "execution_count": 25,
   "id": "82706e4e",
   "metadata": {},
   "outputs": [],
   "source": [
    "def f(x) :\n",
    "    return 1.52654883e-03 + 1.83750247e-04*x -2.14368631e-03*x**2 -4.96163741e-04*x**3 + 8.70822760e-04*x**4 -8.80395995e-05*x**5\n",
    "    "
   ]
  },
  {
   "cell_type": "code",
   "execution_count": 26,
   "id": "b5d4cfe7",
   "metadata": {},
   "outputs": [
    {
     "data": {
      "text/plain": [
       "0.001526730436065397"
      ]
     },
     "execution_count": 26,
     "metadata": {},
     "output_type": "execute_result"
    }
   ],
   "source": [
    "f(0.001)"
   ]
  },
  {
   "cell_type": "code",
   "execution_count": 27,
   "id": "51beb7c1",
   "metadata": {},
   "outputs": [
    {
     "data": {
      "text/plain": [
       "0.0014873210686129948"
      ]
     },
     "execution_count": 27,
     "metadata": {},
     "output_type": "execute_result"
    }
   ],
   "source": [
    "f(-0.1)"
   ]
  },
  {
   "cell_type": "code",
   "execution_count": 28,
   "id": "f2511bc7",
   "metadata": {},
   "outputs": [
    {
     "data": {
      "text/plain": [
       "0.0012040172713795056"
      ]
     },
     "execution_count": 28,
     "metadata": {},
     "output_type": "execute_result"
    }
   ],
   "source": [
    "f(2.1)"
   ]
  },
  {
   "cell_type": "markdown",
   "id": "4af77457",
   "metadata": {},
   "source": [
    "4. ¿Qué diferencias encuentra en cuanto a la interpolación y la extrapolación?"
   ]
  },
  {
   "cell_type": "markdown",
   "id": "2e5066df",
   "metadata": {},
   "source": [
    "La interpolación es para conocer puntos DENTRO de los datos de muestra; suele ser menos atinada cuándo  es un gran conjunto de datos."
   ]
  },
  {
   "cell_type": "markdown",
   "id": "7f451519",
   "metadata": {},
   "source": [
    "La extrapolación es para conocer puntos FUERA de los datos de muestra; es más atinada, pues piensa en un estimadao a largo plazo."
   ]
  },
  {
   "cell_type": "markdown",
   "id": "3ff8002f",
   "metadata": {},
   "source": [
    "5. (Punto extra) Agregue un termino $\\beta_5 cos(10x)$ a su modelo y grafique los resultados. ¿Mejoró el resultado?"
   ]
  },
  {
   "cell_type": "code",
   "execution_count": null,
   "id": "28b1f9ef",
   "metadata": {},
   "outputs": [],
   "source": []
  },
  {
   "cell_type": "code",
   "execution_count": null,
   "id": "011525b0",
   "metadata": {},
   "outputs": [],
   "source": []
  },
  {
   "cell_type": "code",
   "execution_count": null,
   "id": "b6cc448d",
   "metadata": {},
   "outputs": [],
   "source": []
  }
 ],
 "metadata": {
  "kernelspec": {
   "display_name": "Python 3 (ipykernel)",
   "language": "python",
   "name": "python3"
  },
  "language_info": {
   "codemirror_mode": {
    "name": "ipython",
    "version": 3
   },
   "file_extension": ".py",
   "mimetype": "text/x-python",
   "name": "python",
   "nbconvert_exporter": "python",
   "pygments_lexer": "ipython3",
   "version": "3.9.13"
  }
 },
 "nbformat": 4,
 "nbformat_minor": 5
}
